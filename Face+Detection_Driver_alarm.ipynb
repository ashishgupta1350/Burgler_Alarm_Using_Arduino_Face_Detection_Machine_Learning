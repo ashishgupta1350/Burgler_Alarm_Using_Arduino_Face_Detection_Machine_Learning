{
 "cells": [
  {
   "cell_type": "code",
   "execution_count": 17,
   "metadata": {},
   "outputs": [],
   "source": [
    "import time\n",
    "import numpy as np\n",
    "import cv2\n",
    "import pyautogui\n",
    "face_cascade = cv2.CascadeClassifier('C:\\Python27\\Lib\\site-packages\\cv2\\data\\haarcascade_frontalface_default.xml')\n",
    "eye_cascade = cv2.CascadeClassifier('C:\\Python27\\Lib\\site-packages\\cv2\\data\\haarcascade_eye.xml')\n",
    "cap=cv2.VideoCapture(0)\n",
    "flag=1\n",
    "while(1):\n",
    "    ret,frame=cap.read()\n",
    "    #frame = cv2.imread('blank.jpg')\n",
    "    #gray = cv2.cvtColor(img, cv2.COLOR_BGR2GRAY)\n",
    "    gray = cv2.cvtColor(frame, cv2.COLOR_BGR2GRAY)\n",
    "    faces = face_cascade.detectMultiScale(gray, 1.3, 5)\n",
    "    #print (faces.size)\n",
    "    if(len(faces)):\n",
    "        pyautogui.press('1')\n",
    "        pyautogui.press('enter')\n",
    "        time.sleep(10)\n",
    "    for (x,y,w,h) in faces:\n",
    "        #img = cv2.rectangle(img,(x,y),(x+w,y+h),(255,0,0),2)\n",
    "        frame = cv2.rectangle(frame,(x,y),(x+w,y+h),(255,0,0),2)\n",
    "        \n",
    "        roi_gray = gray[y:y+h, x:x+w]\n",
    "        roi_color = frame[y:y+h, x:x+w]\n",
    "        eyes = eye_cascade.detectMultiScale(roi_gray)\n",
    "        for (ex,ey,ew,eh) in eyes:\n",
    "            cv2.rectangle(roi_color,(ex,ey),(ex+ew,ey+eh),(0,255,0),2)\n",
    "\n",
    "    cv2.imshow('Face',frame)\n",
    "    if cv2.waitKey(10) & 0xFF== ord('q'):\n",
    "        break\n",
    "    \n",
    "\n",
    "cap.release()\n",
    "cv2.destroyAllWindows()"
   ]
  },
  {
   "cell_type": "code",
   "execution_count": null,
   "metadata": {
    "collapsed": true
   },
   "outputs": [],
   "source": [
    "252 150 183 183\n"
   ]
  }
 ],
 "metadata": {
  "kernelspec": {
   "display_name": "Python 3",
   "language": "python",
   "name": "python3"
  },
  "language_info": {
   "codemirror_mode": {
    "name": "ipython",
    "version": 3
   },
   "file_extension": ".py",
   "mimetype": "text/x-python",
   "name": "python",
   "nbconvert_exporter": "python",
   "pygments_lexer": "ipython3",
   "version": "3.6.3"
  }
 },
 "nbformat": 4,
 "nbformat_minor": 2
}
